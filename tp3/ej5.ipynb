{
 "cells": [
  {
   "cell_type": "code",
   "execution_count": 1,
   "id": "5d32cec8-6be4-45d7-81c5-4109a2a30580",
   "metadata": {
    "tags": []
   },
   "outputs": [
    {
     "name": "stdout",
     "output_type": "stream",
     "text": [
      "%pylab is deprecated, use %matplotlib inline and import the required libraries.\n",
      "Populating the interactive namespace from numpy and matplotlib\n"
     ]
    }
   ],
   "source": [
    "%pylab inline\n",
    "from sklearn.naive_bayes import GaussianNB\n",
    "from distribuciones import paralelo, diagonal, espirales_anidadas\n",
    "import pandas as pd\n",
    "from sklearn.naive_bayes import GaussianNB\n",
    "from random import sample\n",
    "from sklearn.preprocessing import KBinsDiscretizer\n",
    "from sklearn.naive_bayes import CategoricalNB\n",
    "from random import sample\n",
    "from sklearn.datasets import fetch_20newsgroups\n",
    "from sklearn.model_selection import train_test_split\n",
    "from sklearn.feature_extraction.text import CountVectorizer"
   ]
  },
  {
   "cell_type": "code",
   "execution_count": 2,
   "id": "9c36badc-12d7-4e52-9e00-4e2960026be6",
   "metadata": {
    "tags": []
   },
   "outputs": [],
   "source": [
    "X, y = fetch_20newsgroups(subset=\"train\",return_X_y=True, remove=[\"headers\"])\n",
    "X_train, X_val, y_train, y_val = train_test_split(X, y,test_size=0.25, random_state=1)\n",
    "X_test, y_test = fetch_20newsgroups(subset=\"test\",return_X_y=True,remove=[\"headers\"])"
   ]
  },
  {
   "cell_type": "code",
   "execution_count": 3,
   "id": "b09e69ea-42b6-4c86-a393-241fdf75826a",
   "metadata": {
    "tags": []
   },
   "outputs": [],
   "source": [
    "# \"vectorizar\" contando las veces que ocurre cada palabra de un diccionario dado en cada texto:\n",
    "largo_diccionario=4000\n",
    "vec = CountVectorizer(stop_words='english',max_features=largo_diccionario)\n",
    "Xvec_train = vec.fit_transform(X_train).toarray()\n",
    "Xvec_test = vec.transform(X_test).toarray()"
   ]
  },
  {
   "cell_type": "code",
   "execution_count": 4,
   "id": "b74bef8a-d46e-4c25-9ee1-33bb5c537ea5",
   "metadata": {
    "tags": []
   },
   "outputs": [],
   "source": [
    "# lasificar con el clasificador discreto multinomial (pag. 180 libro de Mitchell):\n",
    "from sklearn.naive_bayes import MultinomialNB\n",
    "alfa=1\n",
    "clf = MultinomialNB(alpha=alfa)"
   ]
  },
  {
   "cell_type": "markdown",
   "id": "69851c40-88a6-4b3f-9334-e29f24d7259a",
   "metadata": {},
   "source": [
    "Escriba código para entrenar este clasificador sobre los datos correspondientes y evaluarlo sobre los conjuntos de validación y test. Evalúe distintas combinaciones del largo del diccionario de palabras (entre 1000 y 4000 por lo menos) y del parámetro alfa (órdenes de magnitud, de 1 a 0.0001), buscando el mínimo en validación. Hay sobreajuste? El comportamiento en validación es representativo del conjunto de test? Calcule una matriz de confusión para el conjunto de test. Hay alguna particularidad que merece atención especial?"
   ]
  },
  {
   "cell_type": "code",
   "execution_count": null,
   "id": "f16cc9a5-25c7-4775-9e89-d80b96aea31e",
   "metadata": {},
   "outputs": [],
   "source": []
  }
 ],
 "metadata": {
  "kernelspec": {
   "display_name": "Python 3 (ipykernel)",
   "language": "python",
   "name": "python3"
  },
  "language_info": {
   "codemirror_mode": {
    "name": "ipython",
    "version": 3
   },
   "file_extension": ".py",
   "mimetype": "text/x-python",
   "name": "python",
   "nbconvert_exporter": "python",
   "pygments_lexer": "ipython3",
   "version": "3.10.6"
  }
 },
 "nbformat": 4,
 "nbformat_minor": 5
}
