{
 "cells": [
  {
   "cell_type": "code",
   "execution_count": 1,
   "id": "ac27beb4-0180-42fe-a32e-87b57c0fb074",
   "metadata": {
    "tags": []
   },
   "outputs": [
    {
     "name": "stdout",
     "output_type": "stream",
     "text": [
      "%pylab is deprecated, use %matplotlib inline and import the required libraries.\n",
      "Populating the interactive namespace from numpy and matplotlib\n"
     ]
    }
   ],
   "source": [
    "%pylab inline\n",
    "from sklearn.naive_bayes import GaussianNB\n",
    "from distribuciones import paralelo, diagonal, espirales_anidadas\n",
    "import pandas as pd\n",
    "from sklearn.naive_bayes import GaussianNB\n",
    "from random import sample\n",
    "from sklearn.preprocessing import KBinsDiscretizer\n",
    "from sklearn.naive_bayes import CategoricalNB"
   ]
  },
  {
   "cell_type": "markdown",
   "id": "c1212300-340f-429f-8dbf-e1391ad06e9d",
   "metadata": {},
   "source": [
    "3) Para el algoritmo Naive-Bayes con histogramas vamos a usar la implementacion de CategoricalNB de Sklearn. Para poder usarla primero tenemos que convertir nuestras variables continuas en categóricas, o sea en un histograma, usando un discretizador. Desarrolle una función que entrene un clasificador Naive-Bayes con histogramas, usando un conjunto de validación para determinar el número óptimo de bins del histograma. Las opciones para el clasificador y el discretizador son las siguientes:"
   ]
  },
  {
   "cell_type": "code",
   "execution_count": 6,
   "id": "c021402e-1f1b-45e2-8b17-e99945d4b2ed",
   "metadata": {
    "tags": []
   },
   "outputs": [],
   "source": [
    "df = pd.read_csv('../tp2/dos_elipses.data')\n",
    "df.columns = ['x','y','clase']\n",
    "\n",
    "x = df.iloc[:,:2]\n",
    "clase = df.iloc[:,2]"
   ]
  },
  {
   "cell_type": "code",
   "execution_count": 11,
   "id": "6409c96a-67cd-425a-8d2e-85f30b0cd712",
   "metadata": {
    "tags": []
   },
   "outputs": [
    {
     "data": {
      "text/plain": [
       "array([array([-0.498016 , -0.3982175, -0.298419 , -0.1986205, -0.098822 ,\n",
       "               0.0009765,  0.100775 ,  0.2005735,  0.300372 ,  0.4001705,\n",
       "               0.499969 ])                                               ,\n",
       "       array([-4.999690e-01, -4.000545e-01, -3.001400e-01, -2.002255e-01,\n",
       "              -1.003110e-01, -3.965000e-04,  9.951800e-02,  1.994325e-01,\n",
       "               2.993470e-01,  3.992615e-01,  4.991760e-01])              ],\n",
       "      dtype=object)"
      ]
     },
     "execution_count": 11,
     "metadata": {},
     "output_type": "execute_result"
    }
   ],
   "source": [
    "# discretizador.bin_edges_  #ver limites del bineado"
   ]
  },
  {
   "cell_type": "code",
   "execution_count": 53,
   "id": "391b7c6a-90d5-4809-9cf4-ce119625528f",
   "metadata": {
    "tags": []
   },
   "outputs": [
    {
     "data": {
      "text/html": [
       "<style>#sk-container-id-7 {color: black;background-color: white;}#sk-container-id-7 pre{padding: 0;}#sk-container-id-7 div.sk-toggleable {background-color: white;}#sk-container-id-7 label.sk-toggleable__label {cursor: pointer;display: block;width: 100%;margin-bottom: 0;padding: 0.3em;box-sizing: border-box;text-align: center;}#sk-container-id-7 label.sk-toggleable__label-arrow:before {content: \"▸\";float: left;margin-right: 0.25em;color: #696969;}#sk-container-id-7 label.sk-toggleable__label-arrow:hover:before {color: black;}#sk-container-id-7 div.sk-estimator:hover label.sk-toggleable__label-arrow:before {color: black;}#sk-container-id-7 div.sk-toggleable__content {max-height: 0;max-width: 0;overflow: hidden;text-align: left;background-color: #f0f8ff;}#sk-container-id-7 div.sk-toggleable__content pre {margin: 0.2em;color: black;border-radius: 0.25em;background-color: #f0f8ff;}#sk-container-id-7 input.sk-toggleable__control:checked~div.sk-toggleable__content {max-height: 200px;max-width: 100%;overflow: auto;}#sk-container-id-7 input.sk-toggleable__control:checked~label.sk-toggleable__label-arrow:before {content: \"▾\";}#sk-container-id-7 div.sk-estimator input.sk-toggleable__control:checked~label.sk-toggleable__label {background-color: #d4ebff;}#sk-container-id-7 div.sk-label input.sk-toggleable__control:checked~label.sk-toggleable__label {background-color: #d4ebff;}#sk-container-id-7 input.sk-hidden--visually {border: 0;clip: rect(1px 1px 1px 1px);clip: rect(1px, 1px, 1px, 1px);height: 1px;margin: -1px;overflow: hidden;padding: 0;position: absolute;width: 1px;}#sk-container-id-7 div.sk-estimator {font-family: monospace;background-color: #f0f8ff;border: 1px dotted black;border-radius: 0.25em;box-sizing: border-box;margin-bottom: 0.5em;}#sk-container-id-7 div.sk-estimator:hover {background-color: #d4ebff;}#sk-container-id-7 div.sk-parallel-item::after {content: \"\";width: 100%;border-bottom: 1px solid gray;flex-grow: 1;}#sk-container-id-7 div.sk-label:hover label.sk-toggleable__label {background-color: #d4ebff;}#sk-container-id-7 div.sk-serial::before {content: \"\";position: absolute;border-left: 1px solid gray;box-sizing: border-box;top: 0;bottom: 0;left: 50%;z-index: 0;}#sk-container-id-7 div.sk-serial {display: flex;flex-direction: column;align-items: center;background-color: white;padding-right: 0.2em;padding-left: 0.2em;position: relative;}#sk-container-id-7 div.sk-item {position: relative;z-index: 1;}#sk-container-id-7 div.sk-parallel {display: flex;align-items: stretch;justify-content: center;background-color: white;position: relative;}#sk-container-id-7 div.sk-item::before, #sk-container-id-7 div.sk-parallel-item::before {content: \"\";position: absolute;border-left: 1px solid gray;box-sizing: border-box;top: 0;bottom: 0;left: 50%;z-index: -1;}#sk-container-id-7 div.sk-parallel-item {display: flex;flex-direction: column;z-index: 1;position: relative;background-color: white;}#sk-container-id-7 div.sk-parallel-item:first-child::after {align-self: flex-end;width: 50%;}#sk-container-id-7 div.sk-parallel-item:last-child::after {align-self: flex-start;width: 50%;}#sk-container-id-7 div.sk-parallel-item:only-child::after {width: 0;}#sk-container-id-7 div.sk-dashed-wrapped {border: 1px dashed gray;margin: 0 0.4em 0.5em 0.4em;box-sizing: border-box;padding-bottom: 0.4em;background-color: white;}#sk-container-id-7 div.sk-label label {font-family: monospace;font-weight: bold;display: inline-block;line-height: 1.2em;}#sk-container-id-7 div.sk-label-container {text-align: center;}#sk-container-id-7 div.sk-container {/* jupyter's `normalize.less` sets `[hidden] { display: none; }` but bootstrap.min.css set `[hidden] { display: none !important; }` so we also need the `!important` here to be able to override the default hidden behavior on the sphinx rendered scikit-learn.org. See: https://github.com/scikit-learn/scikit-learn/issues/21755 */display: inline-block !important;position: relative;}#sk-container-id-7 div.sk-text-repr-fallback {display: none;}</style><div id=\"sk-container-id-7\" class=\"sk-top-container\"><div class=\"sk-text-repr-fallback\"><pre>CategoricalNB(min_categories=5)</pre><b>In a Jupyter environment, please rerun this cell to show the HTML representation or trust the notebook. <br />On GitHub, the HTML representation is unable to render, please try loading this page with nbviewer.org.</b></div><div class=\"sk-container\" hidden><div class=\"sk-item\"><div class=\"sk-estimator sk-toggleable\"><input class=\"sk-toggleable__control sk-hidden--visually\" id=\"sk-estimator-id-7\" type=\"checkbox\" checked><label for=\"sk-estimator-id-7\" class=\"sk-toggleable__label sk-toggleable__label-arrow\">CategoricalNB</label><div class=\"sk-toggleable__content\"><pre>CategoricalNB(min_categories=5)</pre></div></div></div></div></div>"
      ],
      "text/plain": [
       "CategoricalNB(min_categories=5)"
      ]
     },
     "execution_count": 53,
     "metadata": {},
     "output_type": "execute_result"
    }
   ],
   "source": [
    "bins = 5\n",
    "discretizador = KBinsDiscretizer(n_bins = bins, encode='ordinal',strategy='uniform')\n",
    "discretizador.fit(x)\n",
    "x_discreto = discretizador.transform(x)\n",
    "\n",
    "clf = CategoricalNB(min_categories=bins)\n",
    "clf.fit(x_discreto,clase)\n"
   ]
  },
  {
   "cell_type": "code",
   "execution_count": null,
   "id": "03bb6c29-e184-4823-86d0-028c0c37247e",
   "metadata": {},
   "outputs": [],
   "source": []
  },
  {
   "cell_type": "code",
   "execution_count": 49,
   "id": "c1a43ec4-162a-4449-ad93-7556e4e26b59",
   "metadata": {
    "tags": []
   },
   "outputs": [],
   "source": [
    "array = np.zeros([5,5])\n",
    "for i in discretizador.transform(x):\n",
    "    binx = int(i[0])\n",
    "    biny = int(i[1])\n",
    "    \n",
    "    array[binx,biny] = array[binx,biny] + 1 "
   ]
  },
  {
   "cell_type": "code",
   "execution_count": 50,
   "id": "3503b26d-3657-4938-81f8-9c42416d338d",
   "metadata": {
    "tags": []
   },
   "outputs": [
    {
     "data": {
      "text/plain": [
       "<matplotlib.colorbar.Colorbar at 0x7f3d028ca590>"
      ]
     },
     "execution_count": 50,
     "metadata": {},
     "output_type": "execute_result"
    },
    {
     "data": {
      "image/png": "[encoded data removed]",
      "text/plain": [
       "<Figure size 640x480 with 2 Axes>"
      ]
     },
     "metadata": {},
     "output_type": "display_data"
    }
   ],
   "source": [
    "plt.imshow(array)\n",
    "plt.colorbar()"
   ]
  },
  {
   "cell_type": "code",
   "execution_count": null,
   "id": "12cabcee-1b0b-401e-bb89-f8ee0335e307",
   "metadata": {},
   "outputs": [],
   "source": [
    "def NBfunction(bins,x_train,y_train,x_val,y_val,x_test,y_test):\n",
    "    \n",
    "    # convierto variables\n",
    "    discretizador = KBinsDiscretizer(n_bins = bins, encode='ordinal',strategy='uniform')\n",
    "    discretizador.fit(x_train)\n",
    "    \n",
    "    \n",
    "    "
   ]
  },
  {
   "cell_type": "markdown",
   "id": "488b387f-d432-44a4-80fc-12df4574d35c",
   "metadata": {},
   "source": [
    "bins=5\n",
    "\n",
    "discretizador = KBinsDiscretizer(n_bins=bins, encode='ordinal', strategy='uniform')\n",
    "\n",
    "\n",
    "#código propio\n",
    "\n",
    "\n",
    "clf = CategoricalNB(min_categories=bins)\n",
    "\n",
    "clf.fit(X_discreto,y_train)\n",
    "\n",
    "mas codigo propio\n",
    "\n",
    "\n",
    "La función es similar a la que hicieron para entrenar redes. Tiene que recibir los conjuntos de entrenamiento, validación y test, el discretizador y el clasificador, y los valores a probar del número de bins, y tiene que devolver los errores para hacer curvas de error versus número de bins, y el discretizador y el clasificador óptimo entrenados."
   ]
  }
 ],
 "metadata": {
  "kernelspec": {
   "display_name": "Python 3 (ipykernel)",
   "language": "python",
   "name": "python3"
  },
  "language_info": {
   "codemirror_mode": {
    "name": "ipython",
    "version": 3
   },
   "file_extension": ".py",
   "mimetype": "text/x-python",
   "name": "python",
   "nbconvert_exporter": "python",
   "pygments_lexer": "ipython3",
   "version": "3.10.6"
  }
 },
 "nbformat": 4,
 "nbformat_minor": 5
}
