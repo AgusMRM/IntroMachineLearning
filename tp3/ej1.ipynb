{
 "cells": [
  {
   "cell_type": "code",
   "execution_count": 1,
   "id": "595ecbe0-bfc6-4ffe-bdab-4bc4781d7695",
   "metadata": {
    "tags": []
   },
   "outputs": [
    {
     "name": "stdout",
     "output_type": "stream",
     "text": [
      "%pylab is deprecated, use %matplotlib inline and import the required libraries.\n",
      "Populating the interactive namespace from numpy and matplotlib\n"
     ]
    }
   ],
   "source": [
    "%pylab inline\n",
    "from sklearn.naive_bayes import GaussianNB\n",
    "from distribuciones import paralelo, diagonal, espirales_anidadas\n",
    "import pandas as pd\n",
    "from sklearn.naive_bayes import GaussianNB"
   ]
  },
  {
   "cell_type": "markdown",
   "id": "f527286f-0be8-4408-a26c-28c87aa4ab78",
   "metadata": {},
   "source": [
    "1) Dimensionalidad: Repita el punto de dimensionalidad del Práctico 1, usando el Clasificador Naive-Bayes con Gaussianas. Genere una gráfica incluyendo también los resultados de redes y árboles.\n",
    "\n",
    "Genere datasets con C = 0.78, n = 250 para el conjunto de entrenamiento y n = 10000 para el de test, variando esta vez el valor de d según la siguiente lista: 2, 4, 8, 16, 32. Para cada valor de d cree 20 conjuntos distintos de entrenamiento, y uno solo de test. Genere una gráfica del train y test error en función de d para el problema \"paralelo\" y el \"diagonal\" (todos en la misma gráfica). Discuta los resultados."
   ]
  },
  {
   "cell_type": "code",
   "execution_count": 3,
   "id": "9e1ab029-b49e-44b7-b6b1-30aef94f8b6c",
   "metadata": {
    "tags": []
   },
   "outputs": [],
   "source": [
    "# resultados tp1\n",
    "\n",
    "diag_1 = np.loadtxt('../tp2/ej4_diagonal.txt')\n",
    "para_1 = np.loadtxt('../tp2/ej4_paralelo.txt')\n",
    "\n",
    "# resultados tp2"
   ]
  },
  {
   "cell_type": "code",
   "execution_count": 17,
   "id": "da3e7222-3691-4bcb-a7e6-e9ed6655fc09",
   "metadata": {
    "tags": []
   },
   "outputs": [],
   "source": [
    "C = 0.78\n",
    "ntrain = 250\n",
    "ntest  = 10000\n",
    "dimension = [2,4,8,16,32]"
   ]
  },
  {
   "cell_type": "code",
   "execution_count": 13,
   "id": "27980c30-fc47-47a6-be7e-94ec68f596b8",
   "metadata": {
    "tags": []
   },
   "outputs": [],
   "source": [
    "data = paralelo(20,n,C)\n",
    "y = data['clases'].values\n",
    "X = data.drop(['clases'],axis = 1).values"
   ]
  },
  {
   "cell_type": "code",
   "execution_count": 14,
   "id": "3a21cb8b-b266-4609-b043-be7efc1c0837",
   "metadata": {
    "tags": []
   },
   "outputs": [
    {
     "data": {
      "text/html": [
       "<style>#sk-container-id-2 {color: black;background-color: white;}#sk-container-id-2 pre{padding: 0;}#sk-container-id-2 div.sk-toggleable {background-color: white;}#sk-container-id-2 label.sk-toggleable__label {cursor: pointer;display: block;width: 100%;margin-bottom: 0;padding: 0.3em;box-sizing: border-box;text-align: center;}#sk-container-id-2 label.sk-toggleable__label-arrow:before {content: \"▸\";float: left;margin-right: 0.25em;color: #696969;}#sk-container-id-2 label.sk-toggleable__label-arrow:hover:before {color: black;}#sk-container-id-2 div.sk-estimator:hover label.sk-toggleable__label-arrow:before {color: black;}#sk-container-id-2 div.sk-toggleable__content {max-height: 0;max-width: 0;overflow: hidden;text-align: left;background-color: #f0f8ff;}#sk-container-id-2 div.sk-toggleable__content pre {margin: 0.2em;color: black;border-radius: 0.25em;background-color: #f0f8ff;}#sk-container-id-2 input.sk-toggleable__control:checked~div.sk-toggleable__content {max-height: 200px;max-width: 100%;overflow: auto;}#sk-container-id-2 input.sk-toggleable__control:checked~label.sk-toggleable__label-arrow:before {content: \"▾\";}#sk-container-id-2 div.sk-estimator input.sk-toggleable__control:checked~label.sk-toggleable__label {background-color: #d4ebff;}#sk-container-id-2 div.sk-label input.sk-toggleable__control:checked~label.sk-toggleable__label {background-color: #d4ebff;}#sk-container-id-2 input.sk-hidden--visually {border: 0;clip: rect(1px 1px 1px 1px);clip: rect(1px, 1px, 1px, 1px);height: 1px;margin: -1px;overflow: hidden;padding: 0;position: absolute;width: 1px;}#sk-container-id-2 div.sk-estimator {font-family: monospace;background-color: #f0f8ff;border: 1px dotted black;border-radius: 0.25em;box-sizing: border-box;margin-bottom: 0.5em;}#sk-container-id-2 div.sk-estimator:hover {background-color: #d4ebff;}#sk-container-id-2 div.sk-parallel-item::after {content: \"\";width: 100%;border-bottom: 1px solid gray;flex-grow: 1;}#sk-container-id-2 div.sk-label:hover label.sk-toggleable__label {background-color: #d4ebff;}#sk-container-id-2 div.sk-serial::before {content: \"\";position: absolute;border-left: 1px solid gray;box-sizing: border-box;top: 0;bottom: 0;left: 50%;z-index: 0;}#sk-container-id-2 div.sk-serial {display: flex;flex-direction: column;align-items: center;background-color: white;padding-right: 0.2em;padding-left: 0.2em;position: relative;}#sk-container-id-2 div.sk-item {position: relative;z-index: 1;}#sk-container-id-2 div.sk-parallel {display: flex;align-items: stretch;justify-content: center;background-color: white;position: relative;}#sk-container-id-2 div.sk-item::before, #sk-container-id-2 div.sk-parallel-item::before {content: \"\";position: absolute;border-left: 1px solid gray;box-sizing: border-box;top: 0;bottom: 0;left: 50%;z-index: -1;}#sk-container-id-2 div.sk-parallel-item {display: flex;flex-direction: column;z-index: 1;position: relative;background-color: white;}#sk-container-id-2 div.sk-parallel-item:first-child::after {align-self: flex-end;width: 50%;}#sk-container-id-2 div.sk-parallel-item:last-child::after {align-self: flex-start;width: 50%;}#sk-container-id-2 div.sk-parallel-item:only-child::after {width: 0;}#sk-container-id-2 div.sk-dashed-wrapped {border: 1px dashed gray;margin: 0 0.4em 0.5em 0.4em;box-sizing: border-box;padding-bottom: 0.4em;background-color: white;}#sk-container-id-2 div.sk-label label {font-family: monospace;font-weight: bold;display: inline-block;line-height: 1.2em;}#sk-container-id-2 div.sk-label-container {text-align: center;}#sk-container-id-2 div.sk-container {/* jupyter's `normalize.less` sets `[hidden] { display: none; }` but bootstrap.min.css set `[hidden] { display: none !important; }` so we also need the `!important` here to be able to override the default hidden behavior on the sphinx rendered scikit-learn.org. See: https://github.com/scikit-learn/scikit-learn/issues/21755 */display: inline-block !important;position: relative;}#sk-container-id-2 div.sk-text-repr-fallback {display: none;}</style><div id=\"sk-container-id-2\" class=\"sk-top-container\"><div class=\"sk-text-repr-fallback\"><pre>GaussianNB()</pre><b>In a Jupyter environment, please rerun this cell to show the HTML representation or trust the notebook. <br />On GitHub, the HTML representation is unable to render, please try loading this page with nbviewer.org.</b></div><div class=\"sk-container\" hidden><div class=\"sk-item\"><div class=\"sk-estimator sk-toggleable\"><input class=\"sk-toggleable__control sk-hidden--visually\" id=\"sk-estimator-id-2\" type=\"checkbox\" checked><label for=\"sk-estimator-id-2\" class=\"sk-toggleable__label sk-toggleable__label-arrow\">GaussianNB</label><div class=\"sk-toggleable__content\"><pre>GaussianNB()</pre></div></div></div></div></div>"
      ],
      "text/plain": [
       "GaussianNB()"
      ]
     },
     "execution_count": 14,
     "metadata": {},
     "output_type": "execute_result"
    }
   ],
   "source": [
    "clf = GaussianNB()\n",
    "clf.fit(X, y)"
   ]
  },
  {
   "cell_type": "code",
   "execution_count": 15,
   "id": "1a4ac735-c896-483f-b83b-b64365e92455",
   "metadata": {
    "tags": []
   },
   "outputs": [
    {
     "name": "stdout",
     "output_type": "stream",
     "text": [
      "0.88\n"
     ]
    }
   ],
   "source": [
    "test = paralelo(20,n,C)\n",
    "y = test['clases'].values\n",
    "X = test.drop(['clases'],axis = 1).values\n",
    "\n",
    "prediccion_training = clf.predict(X)\n",
    "correctos, = np.where(prediccion_training == y)\n",
    "print(len(correctos)/len(y))"
   ]
  },
  {
   "cell_type": "code",
   "execution_count": 30,
   "id": "2815ce2e-0562-4012-b102-a670fc9148f9",
   "metadata": {
    "tags": []
   },
   "outputs": [],
   "source": [
    "test_error_d = []\n",
    "train_error_d = []\n",
    "    \n",
    "for d in dimension:\n",
    "\n",
    "    accuracy_max = -99\n",
    "      \n",
    "    for i in range(20):\n",
    "        \n",
    "        dtrain = diagonal(d,ntrain,C)\n",
    "        y_d = dtrain['clases'].values\n",
    "        X_d = dtrain.drop(['clases'],axis = 1).values\n",
    "    \n",
    "        clf = GaussianNB()\n",
    "        clf.fit(X_d, y_d)\n",
    "        \n",
    "        prediccion_training = clf.predict(X_d)\n",
    "        correctos, = np.where(prediccion_training == y_d)\n",
    "        accuracy = len(correctos)/len(y_d)\n",
    "        \n",
    "        if accuracy > accuracy_max:\n",
    "            accuracy_max = accuracy\n",
    "            bclf = clf\n",
    "    \n",
    "    dtest = diagonal(d,ntest,C)\n",
    "    y = dtest['clases'].values\n",
    "    X = dtest.drop(['clases'],axis = 1).values\n",
    "    prediccion_training = bclf.predict(X)\n",
    "    correctos, = np.where(prediccion_training == y)\n",
    "    accuracy = len(correctos)/len(y)\n",
    "    \n",
    "    test_error_d.append(1 - accuracy)\n",
    "    train_error_d.append(1 - accuracy_max)"
   ]
  },
  {
   "cell_type": "code",
   "execution_count": 28,
   "id": "43e69461-0d4b-42db-9abc-6e1bbaf1eb88",
   "metadata": {
    "tags": []
   },
   "outputs": [],
   "source": [
    "test_error_p = []\n",
    "train_error_p = []\n",
    "    \n",
    "for d in dimension:\n",
    "\n",
    "    accuracy_max = -99\n",
    "      \n",
    "    for i in range(20):\n",
    "        \n",
    "        dtrain = diagonal(d,ntrain,C)\n",
    "        y_d = dtrain['clases'].values\n",
    "        X_d = dtrain.drop(['clases'],axis = 1).values\n",
    "    \n",
    "        clf = GaussianNB()\n",
    "        clf.fit(X_d, y_d)\n",
    "        \n",
    "        prediccion_training = clf.predict(X_d)\n",
    "        correctos, = np.where(prediccion_training == y_d)\n",
    "        accuracy = len(correctos)/len(y_d)\n",
    "        \n",
    "        if accuracy > accuracy_max:\n",
    "            accuracy_max = accuracy\n",
    "            bclf = clf\n",
    "    \n",
    "    dtest = diagonal(d,ntest,C)\n",
    "    y = dtest['clases'].values\n",
    "    X = dtest.drop(['clases'],axis = 1).values\n",
    "    prediccion_training = bclf.predict(X)\n",
    "    correctos, = np.where(prediccion_training == y)\n",
    "    accuracy = len(correctos)/len(y)\n",
    "    \n",
    "    test_error_p.append(1 - accuracy)\n",
    "    train_error_p.append(1 - accuracy_max)"
   ]
  },
  {
   "cell_type": "code",
   "execution_count": 31,
   "id": "a99b4024-c2b4-4b0c-8ecd-c42fe549cadb",
   "metadata": {
    "tags": []
   },
   "outputs": [
    {
     "data": {
      "text/plain": [
       "Text(0, 0.5, 'ACCURACY')"
      ]
     },
     "execution_count": 31,
     "metadata": {},
     "output_type": "execute_result"
    },
    {
     "data": {
      "image/png": "[encoded data removed]",
      "text/plain": [
       "<Figure size 640x480 with 1 Axes>"
      ]
     },
     "metadata": {},
     "output_type": "display_data"
    }
   ],
   "source": [
    "plt.plot(dimension,test_error_d,label='NB test -d')\n",
    "plt.plot(dimension,train_error_d,label='NB train -d')\n",
    "plt.plot(dimension,test_error_p,label='NB test -p')\n",
    "plt.plot(dimension,train_error_p,label='NB train -p')\n",
    "plt.legend()\n",
    "plt.ylabel('ACCURACY')"
   ]
  },
  {
   "cell_type": "code",
   "execution_count": null,
   "id": "87c04b2f-b9c9-4b53-b7a2-3c0714d1a2c4",
   "metadata": {},
   "outputs": [],
   "source": []
  }
 ],
 "metadata": {
  "kernelspec": {
   "display_name": "Python 3 (ipykernel)",
   "language": "python",
   "name": "python3"
  },
  "language_info": {
   "codemirror_mode": {
    "name": "ipython",
    "version": 3
   },
   "file_extension": ".py",
   "mimetype": "text/x-python",
   "name": "python",
   "nbconvert_exporter": "python",
   "pygments_lexer": "ipython3",
   "version": "3.10.6"
  }
 },
 "nbformat": 4,
 "nbformat_minor": 5
}
