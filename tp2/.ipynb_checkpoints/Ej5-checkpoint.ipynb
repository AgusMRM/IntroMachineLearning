{
 "cells": [
  {
   "cell_type": "code",
   "execution_count": 1,
   "id": "00185901-0916-4cb7-a9d9-bb8c4d25ca40",
   "metadata": {
    "tags": []
   },
   "outputs": [],
   "source": [
    "import matplotlib.pylab as plt\n",
    "import numpy as np\n",
    "import sklearn as sk\n",
    "import pandas as pd\n",
    "from sklearn.neural_network import MLPRegressor\n",
    "from sklearn.neural_network import MLPClassifier\n",
    "import copy\n",
    "from distribuciones import espirales_anidadas\n",
    "from random import sample"
   ]
  },
  {
   "cell_type": "markdown",
   "id": "61f3963a-9e30-4276-b346-ca0273c430da",
   "metadata": {},
   "source": [
    "5. Dimensionalidad: Repita el punto 4 del Práctico 1, usando ahora redes con 6 unidades en la capa intermedia. Los otros parámetros hay que setearlos adecuadamente, usando como guía los casos anteriores. Genere una gráfica que incluya los resultados de redes y árboles."
   ]
  },
  {
   "cell_type": "code",
   "execution_count": null,
   "id": "d0322ce7-1d08-4ac4-b6c6-1eabab733c75",
   "metadata": {},
   "outputs": [],
   "source": []
  }
 ],
 "metadata": {
  "kernelspec": {
   "display_name": "Python 3 (ipykernel)",
   "language": "python",
   "name": "python3"
  },
  "language_info": {
   "codemirror_mode": {
    "name": "ipython",
    "version": 3
   },
   "file_extension": ".py",
   "mimetype": "text/x-python",
   "name": "python",
   "nbconvert_exporter": "python",
   "pygments_lexer": "ipython3",
   "version": "3.10.6"
  }
 },
 "nbformat": 4,
 "nbformat_minor": 5
}
