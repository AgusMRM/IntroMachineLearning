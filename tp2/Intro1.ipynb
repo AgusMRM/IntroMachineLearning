{
 "cells": [
  {
   "cell_type": "code",
   "execution_count": 6,
   "id": "6647835b-35a6-45a6-bac9-d9b343f0cdbe",
   "metadata": {
    "tags": []
   },
   "outputs": [],
   "source": [
    "import numpy as np\n",
    "import sklearn as sk\n",
    "import pandas as pd\n",
    "from sklearn.neural_network import MLPRegressor\n",
    "from sklearn.neural_network import MLPClassifier\n",
    "import copy"
   ]
  },
  {
   "cell_type": "code",
   "execution_count": 2,
   "id": "575d4454-be19-4bf4-829a-b332570f5770",
   "metadata": {
    "tags": []
   },
   "outputs": [],
   "source": [
    "#defino parámetros de la red\n",
    "epocas_por_entrenamiento=25    #numero de epocas que entrena cada vez\n",
    "eta=0.01              #learning rate\n",
    "alfa=0.9               #momentum\n",
    "N2=60                 #neuronas en la capa oculta"
   ]
  },
  {
   "cell_type": "code",
   "execution_count": 3,
   "id": "e95fd1ad-d724-4d6d-885a-0db344344507",
   "metadata": {
    "tags": []
   },
   "outputs": [
    {
     "name": "stdout",
     "output_type": "stream",
     "text": [
      "MLPRegressor(activation='logistic', alpha=0.0, batch_size=1,\n",
      "             hidden_layer_sizes=(60,), learning_rate_init=0.01, max_iter=25,\n",
      "             nesterovs_momentum=False, solver='sgd', tol=0.0, warm_start=True)\n"
     ]
    }
   ],
   "source": [
    "#defino MLP para regresión\n",
    "regr = MLPRegressor(hidden_layer_sizes=(N2,), activation='logistic', solver='sgd', alpha=0.0, \n",
    "                    batch_size=1, learning_rate='constant', learning_rate_init=eta,momentum=alfa,\n",
    "                    nesterovs_momentum=False,tol=0.0,warm_start=True,max_iter=epocas_por_entrenamiento)\n",
    "#defino MLP para clasificación\n",
    "clasif = MLPClassifier(hidden_layer_sizes=(N2,), activation='logistic', solver='sgd', alpha=0.0, \n",
    "                       batch_size=1, learning_rate='constant', learning_rate_init=eta,momentum=alfa,\n",
    "                       nesterovs_momentum=False,tol=0.0,warm_start=True,max_iter=epocas_por_entrenamiento)\n",
    "print(regr)"
   ]
  },
  {
   "cell_type": "code",
   "execution_count": null,
   "id": "e5a7389c-4022-41c0-a24e-cf2130f42575",
   "metadata": {},
   "outputs": [],
   "source": []
  },
  {
   "cell_type": "code",
   "execution_count": 5,
   "id": "1f7fc9f8-cf4b-4c27-8972-25cb1ba66e8e",
   "metadata": {
    "tags": []
   },
   "outputs": [],
   "source": [
    "#función que entrena una red ya definida previamente \"evaluaciones\" veces, cada vez entrenando un número de épocas elegido al crear la red \n",
    "# y midiendo el error en train, validación y test al terminar ese paso de entrenamiento. \n",
    "#Guarda y devuelve la red en el paso de evaluación que da el mínimo error de validación\n",
    "#entradas: la red, las veces que evalua, los datos de entrenamiento y sus respuestas, de validacion y sus respuestas, de test y sus respuestas\n",
    "#salidas: la red entrenada en el mínimo de validación, los errores de train, validación y test medidos en cada evaluación\n",
    "\n",
    "def entrenar_red(red, evaluaciones, X_train, y_train, X_val, y_val, X_test, y_test):\n",
    "     #mi código\n",
    "    for i in range(evaluaciones):\n",
    "        \n",
    "        #entreno la red\n",
    "        red.fit(X_train, y_train)\n",
    "     \n",
    "        \n",
    "     \n",
    "        \n",
    "    return best_red, error_train, error_val, error_test"
   ]
  },
  {
   "cell_type": "markdown",
   "id": "6f280c81-bf9c-4e6a-91db-15d7f1095230",
   "metadata": {
    "tags": []
   },
   "source": [
    "1. Capacidad de modelado: Entrene redes neuronales para resolver el problema de clasificación de las espirales anidadas que creamos en el TP 0. Use un número creciente de neuronas en la capa intermedia: 2, 10, 20, 40. Valores posibles para los demás parámetros de entrenamiento: learning rate 0.1, momentum 0.9, 600 datos para ajustar los modelos (20% de ese conjunto separarlo al azar para conjunto de validación), 2000 para testear, 1000 evaluaciones del entrenamiento, cada una de 20 épocas. Para cada uno de los cuatro modelos obtenidos, graficar en el plano xy las clasificaciones sobre el conjunto de test. Comentar."
   ]
  },
  {
   "cell_type": "code",
   "execution_count": 38,
   "id": "c2533edc-d9d6-45b6-ae12-cd9ddd2a93ca",
   "metadata": {
    "tags": []
   },
   "outputs": [],
   "source": [
    "from distribuciones import espirales_anidadas"
   ]
  },
  {
   "cell_type": "code",
   "execution_count": 39,
   "id": "899e0b07-70ea-4dad-b7db-66a6321a3db8",
   "metadata": {
    "tags": []
   },
   "outputs": [],
   "source": [
    "neuronas_capa_int = [2,10,20,40]\n",
    "lrate = 0.1\n",
    "pmom  = 0.9\n",
    "ndata = 600\n",
    "ntest = 2000\n",
    "nevaluaciones = 1000\n",
    "nepocas = 20"
   ]
  },
  {
   "cell_type": "code",
   "execution_count": 40,
   "id": "601f18d2-12ad-44bf-a961-9e40b0f6234f",
   "metadata": {
    "tags": []
   },
   "outputs": [],
   "source": [
    "df = espirales_anidadas(ndata).drop(['r','tita'],axis=1)\n",
    "y0 = df['clases']\n",
    "x0 = df.drop(['clases'],axis = 1)"
   ]
  },
  {
   "cell_type": "code",
   "execution_count": 52,
   "id": "e2863d1e-a97f-4804-aaf7-fb212e74117b",
   "metadata": {
    "tags": []
   },
   "outputs": [
    {
     "data": {
      "text/plain": [
       "array([[-0.68410757, -0.65573266],\n",
       "       [-0.33856218,  0.26924867],\n",
       "       [-0.61050666,  0.76544563],\n",
       "       ...,\n",
       "       [-0.28895046,  0.00689068],\n",
       "       [ 0.38363777, -0.2080666 ],\n",
       "       [ 0.09286754, -0.1646229 ]])"
      ]
     },
     "execution_count": 52,
     "metadata": {},
     "output_type": "execute_result"
    }
   ],
   "source": [
    "x0.values"
   ]
  },
  {
   "cell_type": "code",
   "execution_count": 41,
   "id": "020f7da5-264b-482f-a628-02f3778312c3",
   "metadata": {
    "tags": []
   },
   "outputs": [],
   "source": [
    "from random import sample"
   ]
  },
  {
   "cell_type": "code",
   "execution_count": 46,
   "id": "e1336226-8c1e-4639-b014-7ff2cba09f2b",
   "metadata": {
    "tags": []
   },
   "outputs": [],
   "source": [
    "# 20% de 600 es 120\n",
    "mask_validation = sample(list(np.arange(ndata)),120)\n",
    "mask_train = np.delete(np.arange(ndata),mask_validation)"
   ]
  },
  {
   "cell_type": "code",
   "execution_count": 55,
   "id": "fde02d62-8eb9-4750-89f4-ff70fe02ee1e",
   "metadata": {
    "tags": []
   },
   "outputs": [],
   "source": [
    "y_validation = y0.values[mask_validation]\n",
    "x_validation = x0.values[mask_validation]\n",
    "\n",
    "y_train = y0.values[mask_train]\n",
    "x_train = x0.values[mask_train]"
   ]
  },
  {
   "cell_type": "code",
   "execution_count": 83,
   "id": "9f154bf9-ac02-473d-941f-7b4ef480a49d",
   "metadata": {
    "tags": []
   },
   "outputs": [],
   "source": [
    "neuronas = 2\n",
    "clasif = MLPClassifier(hidden_layer_sizes=(neuronas,), activation='logistic', solver='sgd', alpha=0.0, \n",
    "                       batch_size=1, learning_rate='constant', learning_rate_init=lrate,momentum=pmom,\n",
    "                       nesterovs_momentum=False,tol=0.0,warm_start=True,max_iter=nepocas)"
   ]
  },
  {
   "cell_type": "code",
   "execution_count": 81,
   "id": "9b09b6b6-e178-4545-929b-c5bd90fb0bec",
   "metadata": {
    "tags": []
   },
   "outputs": [
    {
     "name": "stdout",
     "output_type": "stream",
     "text": [
      "CPU times: user 1.55 s, sys: 0 ns, total: 1.55 s\n",
      "Wall time: 1.55 s\n"
     ]
    },
    {
     "name": "stderr",
     "output_type": "stream",
     "text": [
      "/home/agus/IntroML/lib/python3.10/site-packages/sklearn/neural_network/_multilayer_perceptron.py:686: ConvergenceWarning: Stochastic Optimizer: Maximum iterations (20) reached and the optimization hasn't converged yet.\n",
      "  warnings.warn(\n"
     ]
    },
    {
     "data": {
      "text/html": [
       "<style>#sk-container-id-6 {color: black;background-color: white;}#sk-container-id-6 pre{padding: 0;}#sk-container-id-6 div.sk-toggleable {background-color: white;}#sk-container-id-6 label.sk-toggleable__label {cursor: pointer;display: block;width: 100%;margin-bottom: 0;padding: 0.3em;box-sizing: border-box;text-align: center;}#sk-container-id-6 label.sk-toggleable__label-arrow:before {content: \"▸\";float: left;margin-right: 0.25em;color: #696969;}#sk-container-id-6 label.sk-toggleable__label-arrow:hover:before {color: black;}#sk-container-id-6 div.sk-estimator:hover label.sk-toggleable__label-arrow:before {color: black;}#sk-container-id-6 div.sk-toggleable__content {max-height: 0;max-width: 0;overflow: hidden;text-align: left;background-color: #f0f8ff;}#sk-container-id-6 div.sk-toggleable__content pre {margin: 0.2em;color: black;border-radius: 0.25em;background-color: #f0f8ff;}#sk-container-id-6 input.sk-toggleable__control:checked~div.sk-toggleable__content {max-height: 200px;max-width: 100%;overflow: auto;}#sk-container-id-6 input.sk-toggleable__control:checked~label.sk-toggleable__label-arrow:before {content: \"▾\";}#sk-container-id-6 div.sk-estimator input.sk-toggleable__control:checked~label.sk-toggleable__label {background-color: #d4ebff;}#sk-container-id-6 div.sk-label input.sk-toggleable__control:checked~label.sk-toggleable__label {background-color: #d4ebff;}#sk-container-id-6 input.sk-hidden--visually {border: 0;clip: rect(1px 1px 1px 1px);clip: rect(1px, 1px, 1px, 1px);height: 1px;margin: -1px;overflow: hidden;padding: 0;position: absolute;width: 1px;}#sk-container-id-6 div.sk-estimator {font-family: monospace;background-color: #f0f8ff;border: 1px dotted black;border-radius: 0.25em;box-sizing: border-box;margin-bottom: 0.5em;}#sk-container-id-6 div.sk-estimator:hover {background-color: #d4ebff;}#sk-container-id-6 div.sk-parallel-item::after {content: \"\";width: 100%;border-bottom: 1px solid gray;flex-grow: 1;}#sk-container-id-6 div.sk-label:hover label.sk-toggleable__label {background-color: #d4ebff;}#sk-container-id-6 div.sk-serial::before {content: \"\";position: absolute;border-left: 1px solid gray;box-sizing: border-box;top: 0;bottom: 0;left: 50%;z-index: 0;}#sk-container-id-6 div.sk-serial {display: flex;flex-direction: column;align-items: center;background-color: white;padding-right: 0.2em;padding-left: 0.2em;position: relative;}#sk-container-id-6 div.sk-item {position: relative;z-index: 1;}#sk-container-id-6 div.sk-parallel {display: flex;align-items: stretch;justify-content: center;background-color: white;position: relative;}#sk-container-id-6 div.sk-item::before, #sk-container-id-6 div.sk-parallel-item::before {content: \"\";position: absolute;border-left: 1px solid gray;box-sizing: border-box;top: 0;bottom: 0;left: 50%;z-index: -1;}#sk-container-id-6 div.sk-parallel-item {display: flex;flex-direction: column;z-index: 1;position: relative;background-color: white;}#sk-container-id-6 div.sk-parallel-item:first-child::after {align-self: flex-end;width: 50%;}#sk-container-id-6 div.sk-parallel-item:last-child::after {align-self: flex-start;width: 50%;}#sk-container-id-6 div.sk-parallel-item:only-child::after {width: 0;}#sk-container-id-6 div.sk-dashed-wrapped {border: 1px dashed gray;margin: 0 0.4em 0.5em 0.4em;box-sizing: border-box;padding-bottom: 0.4em;background-color: white;}#sk-container-id-6 div.sk-label label {font-family: monospace;font-weight: bold;display: inline-block;line-height: 1.2em;}#sk-container-id-6 div.sk-label-container {text-align: center;}#sk-container-id-6 div.sk-container {/* jupyter's `normalize.less` sets `[hidden] { display: none; }` but bootstrap.min.css set `[hidden] { display: none !important; }` so we also need the `!important` here to be able to override the default hidden behavior on the sphinx rendered scikit-learn.org. See: https://github.com/scikit-learn/scikit-learn/issues/21755 */display: inline-block !important;position: relative;}#sk-container-id-6 div.sk-text-repr-fallback {display: none;}</style><div id=\"sk-container-id-6\" class=\"sk-top-container\"><div class=\"sk-text-repr-fallback\"><pre>MLPClassifier(activation=&#x27;logistic&#x27;, alpha=0.0, batch_size=1,\n",
       "              hidden_layer_sizes=(400,), learning_rate_init=0.1, max_iter=20,\n",
       "              nesterovs_momentum=False, solver=&#x27;sgd&#x27;, tol=0.0, warm_start=True)</pre><b>In a Jupyter environment, please rerun this cell to show the HTML representation or trust the notebook. <br />On GitHub, the HTML representation is unable to render, please try loading this page with nbviewer.org.</b></div><div class=\"sk-container\" hidden><div class=\"sk-item\"><div class=\"sk-estimator sk-toggleable\"><input class=\"sk-toggleable__control sk-hidden--visually\" id=\"sk-estimator-id-6\" type=\"checkbox\" checked><label for=\"sk-estimator-id-6\" class=\"sk-toggleable__label sk-toggleable__label-arrow\">MLPClassifier</label><div class=\"sk-toggleable__content\"><pre>MLPClassifier(activation=&#x27;logistic&#x27;, alpha=0.0, batch_size=1,\n",
       "              hidden_layer_sizes=(400,), learning_rate_init=0.1, max_iter=20,\n",
       "              nesterovs_momentum=False, solver=&#x27;sgd&#x27;, tol=0.0, warm_start=True)</pre></div></div></div></div></div>"
      ],
      "text/plain": [
       "MLPClassifier(activation='logistic', alpha=0.0, batch_size=1,\n",
       "              hidden_layer_sizes=(400,), learning_rate_init=0.1, max_iter=20,\n",
       "              nesterovs_momentum=False, solver='sgd', tol=0.0, warm_start=True)"
      ]
     },
     "execution_count": 81,
     "metadata": {},
     "output_type": "execute_result"
    }
   ],
   "source": [
    "%%time\n",
    "clasif.fit(x_train,y_train)"
   ]
  },
  {
   "cell_type": "code",
   "execution_count": 82,
   "id": "9f4ef0a0-96a4-44e9-8348-2ec117517efc",
   "metadata": {
    "tags": []
   },
   "outputs": [
    {
     "name": "stdout",
     "output_type": "stream",
     "text": [
      "0.5666666666666667\n"
     ]
    }
   ],
   "source": []
  }
 ],
 "metadata": {
  "kernelspec": {
   "display_name": "Python 3 (ipykernel)",
   "language": "python",
   "name": "python3"
  },
  "language_info": {
   "codemirror_mode": {
    "name": "ipython",
    "version": 3
   },
   "file_extension": ".py",
   "mimetype": "text/x-python",
   "name": "python",
   "nbconvert_exporter": "python",
   "pygments_lexer": "ipython3",
   "version": "3.10.6"
  }
 },
 "nbformat": 4,
 "nbformat_minor": 5
}
