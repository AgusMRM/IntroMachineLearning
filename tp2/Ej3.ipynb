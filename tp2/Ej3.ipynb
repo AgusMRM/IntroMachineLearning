{
 "cells": [
  {
   "cell_type": "code",
   "execution_count": 1,
   "id": "2d02302c-d608-4216-a475-a8fd9b837242",
   "metadata": {
    "tags": []
   },
   "outputs": [],
   "source": [
    "import matplotlib.pylab as plt\n",
    "import numpy as np\n",
    "import sklearn as sk\n",
    "import pandas as pd\n",
    "from sklearn.neural_network import MLPRegressor\n",
    "from sklearn.neural_network import MLPClassifier\n",
    "import copy\n",
    "from distribuciones import espirales_anidadas\n",
    "from random import sample"
   ]
  },
  {
   "cell_type": "code",
   "execution_count": 2,
   "id": "77e412b8-a587-40b6-b2ab-69ff52edb65f",
   "metadata": {
    "tags": []
   },
   "outputs": [],
   "source": [
    "import warnings\n",
    "warnings.filterwarnings(\"ignore\")"
   ]
  },
  {
   "cell_type": "markdown",
   "id": "b1601ae1-5174-4ace-b6c2-fa144a7f6d94",
   "metadata": {},
   "source": [
    "3. Regularización: Baje el dataset Ikeda. Realice varios entrenamientos usando el 95% del archivo .data para entrenar, y el resto para validar. Realice otros entrenamientos cambiando la relación a 75%-25%, y a 50%-50%. En cada caso seleccione un resultado que considere adecuado, y genere gráficas del mse en train, validación y test. Comente sobre los resultados. \n",
    "Los otros parámetros para el entrenamiento son: learning rate 0.01, momentum 0.9, 2000 datos para testear, 400 evaluaciones del entrenamiento, cada una de 50 épocas, 30 neuronas en la capa oculta."
   ]
  },
  {
   "cell_type": "code",
   "execution_count": 3,
   "id": "1b6f5116-a79c-4d0b-a866-f75247e2e61f",
   "metadata": {
    "tags": []
   },
   "outputs": [],
   "source": [
    "t1 = np.loadtxt('ikeda.data')\n",
    "t2 = np.loadtxt('ikeda.test')"
   ]
  },
  {
   "cell_type": "code",
   "execution_count": 4,
   "id": "ec6973bf-fcc0-4baf-a858-651b034a1664",
   "metadata": {
    "tags": []
   },
   "outputs": [],
   "source": [
    "df_data = pd.DataFrame(t1)\n",
    "df_test = pd.DataFrame(t2)"
   ]
  },
  {
   "cell_type": "code",
   "execution_count": 5,
   "id": "a1d7f1df-04cb-48fc-90e4-9b370e02e8b7",
   "metadata": {
    "tags": []
   },
   "outputs": [
    {
     "data": {
      "text/plain": [
       "[<matplotlib.lines.Line2D at 0x7f69a1329d80>]"
      ]
     },
     "execution_count": 5,
     "metadata": {},
     "output_type": "execute_result"
    },
    {
     "data": {
      "image/png": "[encoded data removed]",
      "text/plain": [
       "<Figure size 300x200 with 1 Axes>"
      ]
     },
     "metadata": {},
     "output_type": "display_data"
    }
   ],
   "source": [
    "plt.figure(figsize=(3,2))\n",
    "plt.plot(t1[:,0])"
   ]
  },
  {
   "cell_type": "code",
   "execution_count": 6,
   "id": "0562c226-2bb7-4ad6-89ed-fe335e394508",
   "metadata": {
    "tags": []
   },
   "outputs": [],
   "source": [
    "from sklearn.metrics import mean_squared_error\n",
    "\n",
    "def entrenar_red(evaluaciones,red,x_train,y_train,x_val,y_val,x_test,y_test):\n",
    "    errores = []\n",
    "    min_error = 1\n",
    "    \n",
    "    for i in range(evaluaciones):\n",
    "        red.fit(x_train,y_train)\n",
    "        y_pred = red.predict(x_val)\n",
    "        #error_val = sk.metrics.zero_one_loss(y_pred, y_val)\n",
    "        error_val = (mean_squared_error(y_pred, y_val))\n",
    "        #errores.append(error_valid)\n",
    "        if error_val < min_error:\n",
    "            min_error = error_val\n",
    "            mejor_red = copy.deepcopy(red)\n",
    "            \n",
    "    pred_test = mejor_red.predict(x_test)\n",
    "    #error_test = sk.metrics.zero_one_loss(pred_test,y_test)\n",
    "    error_test = (mean_squared_error(pred_test,y_test))\n",
    "    pred_train = mejor_red.predict(x_train)\n",
    "    #error_train = sk.metrics.zero_one_loss(pred_train,y_train)\n",
    "    error_train = (mean_squared_error(pred_train,y_train))\n",
    "    \n",
    "    return red, error_train, min_error, error_test"
   ]
  },
  {
   "cell_type": "code",
   "execution_count": 7,
   "id": "e4141de6-b129-42bd-8b1f-1cf0a3e1f107",
   "metadata": {
    "tags": []
   },
   "outputs": [],
   "source": [
    "lrate = 0.01\n",
    "pmom  = 0.9\n",
    "ntest = 2000\n",
    "evaluaciones = 400\n",
    "epocas = 50\n",
    "neuronas = 30"
   ]
  },
  {
   "cell_type": "code",
   "execution_count": 8,
   "id": "58db34a8-0a16-4210-ac6f-878630d1c732",
   "metadata": {
    "tags": []
   },
   "outputs": [],
   "source": [
    "#defino MLP para regresión\n",
    "regr = MLPRegressor(hidden_layer_sizes=(neuronas,), activation='logistic', solver='sgd', alpha=0.0, \n",
    "                    batch_size=1, learning_rate='constant', learning_rate_init=lrate,momentum=pmom,\n",
    "                    nesterovs_momentum=False,tol=0.0,warm_start=True,max_iter=epocas)"
   ]
  },
  {
   "cell_type": "code",
   "execution_count": 9,
   "id": "addad315-2f51-4077-811c-afcb88c0a3fc",
   "metadata": {
    "tags": []
   },
   "outputs": [],
   "source": [
    "x_train = df_data.iloc[:95,:5]\n",
    "y_train = df_data.iloc[:95,5]\n",
    "\n",
    "x_valid = df_data.iloc[95:100,:5]\n",
    "y_valid = df_data.iloc[95:100,5]\n",
    "\n",
    "x_test = df_test.iloc[:ntest,:5]\n",
    "y_test = df_test.iloc[:ntest,5]"
   ]
  },
  {
   "cell_type": "code",
   "execution_count": 10,
   "id": "c17d1133-f208-48eb-9684-0919b73210ae",
   "metadata": {
    "tags": []
   },
   "outputs": [],
   "source": [
    "red, error_train, error_val, error_test = entrenar_red(evaluaciones = 400, red = regr,  \n",
    "                                                       x_train=x_train,y_train=y_train,\n",
    "                                                       x_val=x_valid,y_val=y_valid,\n",
    "                                                       x_test=x_test,y_test=y_test)"
   ]
  },
  {
   "cell_type": "code",
   "execution_count": 11,
   "id": "e2bc09e5-4260-444f-9228-afcde203ec05",
   "metadata": {
    "tags": []
   },
   "outputs": [
    {
     "name": "stdout",
     "output_type": "stream",
     "text": [
      "0.06852728962523782 0.015459415657201572 0.11194675480688435\n"
     ]
    }
   ],
   "source": [
    "print(error_train,error_val,error_test)"
   ]
  },
  {
   "cell_type": "code",
   "execution_count": 12,
   "id": "5f3220d1-4f26-4697-85ac-3a671be3ae42",
   "metadata": {
    "tags": []
   },
   "outputs": [
    {
     "name": "stdout",
     "output_type": "stream",
     "text": [
      "10\n",
      "20\n",
      "30\n",
      "40\n",
      "50\n",
      "CPU times: user 44.3 s, sys: 1.96 s, total: 46.3 s\n",
      "Wall time: 42.8 s\n"
     ]
    }
   ],
   "source": [
    "%%time\n",
    "\n",
    "vsize = [10,20,30,40,50]\n",
    "regr = MLPRegressor(hidden_layer_sizes=(neuronas,), activation='logistic', solver='sgd', alpha=0.0, \n",
    "                    batch_size=1, learning_rate='constant', learning_rate_init=lrate,momentum=pmom,\n",
    "                    nesterovs_momentum=False,tol=0.0,warm_start=True,max_iter=epocas)\n",
    "\n",
    "etrain = []\n",
    "etests = []\n",
    "evalid = []\n",
    "\n",
    "for i in vsize:\n",
    "    print(i)\n",
    "    train_size = 100-i\n",
    "    valid_size = i\n",
    "    \n",
    "    x_train = df_data.iloc[:train_size,:5]\n",
    "    y_train = df_data.iloc[:train_size,5]\n",
    "\n",
    "    x_valid = df_data.iloc[train_size:100,:5]\n",
    "    y_valid = df_data.iloc[train_size:100,5]\n",
    "    \n",
    "    red, error_train, error_val, error_test = entrenar_red(evaluaciones = 400, red = regr,  \n",
    "                                                       x_train=x_train,y_train=y_train,\n",
    "                                                       x_val=x_valid,y_val=y_valid,\n",
    "                                                       x_test=x_test,y_test=y_test)\n",
    "    etrain.append(error_train)\n",
    "    evalid.append(error_val)\n",
    "    etests.append(error_test)"
   ]
  },
  {
   "cell_type": "code",
   "execution_count": 13,
   "id": "ba5ca241-007c-4aa1-878e-8f559b0b2838",
   "metadata": {
    "tags": []
   },
   "outputs": [
    {
     "data": {
      "text/plain": [
       "Text(0.5, 0, 'porcentaje validation-set')"
      ]
     },
     "execution_count": 13,
     "metadata": {},
     "output_type": "execute_result"
    },
    {
     "data": {
      "image/png": "[encoded data removed]",
      "text/plain": [
       "<Figure size 640x480 with 1 Axes>"
      ]
     },
     "metadata": {},
     "output_type": "display_data"
    }
   ],
   "source": [
    "plt.plot(vsize,etrain,label='train')\n",
    "plt.plot(vsize,etests,label='test')\n",
    "plt.plot(vsize,evalid,label='validation')\n",
    "plt.legend()\n",
    "plt.ylabel('MSE',size=15)\n",
    "plt.xlabel('porcentaje validation-set',size=15)"
   ]
  },
  {
   "cell_type": "markdown",
   "id": "6c4dc72e-55d0-46ff-a732-9fe30bf1b7d3",
   "metadata": {},
   "source": [
    "Entrenar con el 80% y validar con el 20% parece ser la mejor estrategia. pero porque sigue bajando el error de entrenamiento ? nunca lo sabremos.."
   ]
  },
  {
   "cell_type": "code",
   "execution_count": 43,
   "id": "67d1edbb-359e-4ece-8e96-e0312caf900a",
   "metadata": {
    "tags": []
   },
   "outputs": [
    {
     "data": {
      "text/html": [
       "<style>#sk-container-id-1 {color: black;background-color: white;}#sk-container-id-1 pre{padding: 0;}#sk-container-id-1 div.sk-toggleable {background-color: white;}#sk-container-id-1 label.sk-toggleable__label {cursor: pointer;display: block;width: 100%;margin-bottom: 0;padding: 0.3em;box-sizing: border-box;text-align: center;}#sk-container-id-1 label.sk-toggleable__label-arrow:before {content: \"▸\";float: left;margin-right: 0.25em;color: #696969;}#sk-container-id-1 label.sk-toggleable__label-arrow:hover:before {color: black;}#sk-container-id-1 div.sk-estimator:hover label.sk-toggleable__label-arrow:before {color: black;}#sk-container-id-1 div.sk-toggleable__content {max-height: 0;max-width: 0;overflow: hidden;text-align: left;background-color: #f0f8ff;}#sk-container-id-1 div.sk-toggleable__content pre {margin: 0.2em;color: black;border-radius: 0.25em;background-color: #f0f8ff;}#sk-container-id-1 input.sk-toggleable__control:checked~div.sk-toggleable__content {max-height: 200px;max-width: 100%;overflow: auto;}#sk-container-id-1 input.sk-toggleable__control:checked~label.sk-toggleable__label-arrow:before {content: \"▾\";}#sk-container-id-1 div.sk-estimator input.sk-toggleable__control:checked~label.sk-toggleable__label {background-color: #d4ebff;}#sk-container-id-1 div.sk-label input.sk-toggleable__control:checked~label.sk-toggleable__label {background-color: #d4ebff;}#sk-container-id-1 input.sk-hidden--visually {border: 0;clip: rect(1px 1px 1px 1px);clip: rect(1px, 1px, 1px, 1px);height: 1px;margin: -1px;overflow: hidden;padding: 0;position: absolute;width: 1px;}#sk-container-id-1 div.sk-estimator {font-family: monospace;background-color: #f0f8ff;border: 1px dotted black;border-radius: 0.25em;box-sizing: border-box;margin-bottom: 0.5em;}#sk-container-id-1 div.sk-estimator:hover {background-color: #d4ebff;}#sk-container-id-1 div.sk-parallel-item::after {content: \"\";width: 100%;border-bottom: 1px solid gray;flex-grow: 1;}#sk-container-id-1 div.sk-label:hover label.sk-toggleable__label {background-color: #d4ebff;}#sk-container-id-1 div.sk-serial::before {content: \"\";position: absolute;border-left: 1px solid gray;box-sizing: border-box;top: 0;bottom: 0;left: 50%;z-index: 0;}#sk-container-id-1 div.sk-serial {display: flex;flex-direction: column;align-items: center;background-color: white;padding-right: 0.2em;padding-left: 0.2em;position: relative;}#sk-container-id-1 div.sk-item {position: relative;z-index: 1;}#sk-container-id-1 div.sk-parallel {display: flex;align-items: stretch;justify-content: center;background-color: white;position: relative;}#sk-container-id-1 div.sk-item::before, #sk-container-id-1 div.sk-parallel-item::before {content: \"\";position: absolute;border-left: 1px solid gray;box-sizing: border-box;top: 0;bottom: 0;left: 50%;z-index: -1;}#sk-container-id-1 div.sk-parallel-item {display: flex;flex-direction: column;z-index: 1;position: relative;background-color: white;}#sk-container-id-1 div.sk-parallel-item:first-child::after {align-self: flex-end;width: 50%;}#sk-container-id-1 div.sk-parallel-item:last-child::after {align-self: flex-start;width: 50%;}#sk-container-id-1 div.sk-parallel-item:only-child::after {width: 0;}#sk-container-id-1 div.sk-dashed-wrapped {border: 1px dashed gray;margin: 0 0.4em 0.5em 0.4em;box-sizing: border-box;padding-bottom: 0.4em;background-color: white;}#sk-container-id-1 div.sk-label label {font-family: monospace;font-weight: bold;display: inline-block;line-height: 1.2em;}#sk-container-id-1 div.sk-label-container {text-align: center;}#sk-container-id-1 div.sk-container {/* jupyter's `normalize.less` sets `[hidden] { display: none; }` but bootstrap.min.css set `[hidden] { display: none !important; }` so we also need the `!important` here to be able to override the default hidden behavior on the sphinx rendered scikit-learn.org. See: https://github.com/scikit-learn/scikit-learn/issues/21755 */display: inline-block !important;position: relative;}#sk-container-id-1 div.sk-text-repr-fallback {display: none;}</style><div id=\"sk-container-id-1\" class=\"sk-top-container\"><div class=\"sk-text-repr-fallback\"><pre>MLPRegressor(activation=&#x27;logistic&#x27;, alpha=0.0, batch_size=1,\n",
       "             hidden_layer_sizes=(30,), learning_rate_init=0.01, max_iter=50,\n",
       "             nesterovs_momentum=False, solver=&#x27;sgd&#x27;, tol=0.0, warm_start=True)</pre><b>In a Jupyter environment, please rerun this cell to show the HTML representation or trust the notebook. <br />On GitHub, the HTML representation is unable to render, please try loading this page with nbviewer.org.</b></div><div class=\"sk-container\" hidden><div class=\"sk-item\"><div class=\"sk-estimator sk-toggleable\"><input class=\"sk-toggleable__control sk-hidden--visually\" id=\"sk-estimator-id-1\" type=\"checkbox\" checked><label for=\"sk-estimator-id-1\" class=\"sk-toggleable__label sk-toggleable__label-arrow\">MLPRegressor</label><div class=\"sk-toggleable__content\"><pre>MLPRegressor(activation=&#x27;logistic&#x27;, alpha=0.0, batch_size=1,\n",
       "             hidden_layer_sizes=(30,), learning_rate_init=0.01, max_iter=50,\n",
       "             nesterovs_momentum=False, solver=&#x27;sgd&#x27;, tol=0.0, warm_start=True)</pre></div></div></div></div></div>"
      ],
      "text/plain": [
       "MLPRegressor(activation='logistic', alpha=0.0, batch_size=1,\n",
       "             hidden_layer_sizes=(30,), learning_rate_init=0.01, max_iter=50,\n",
       "             nesterovs_momentum=False, solver='sgd', tol=0.0, warm_start=True)"
      ]
     },
     "execution_count": 43,
     "metadata": {},
     "output_type": "execute_result"
    }
   ],
   "source": [
    "regr.fit(x_train,y_train)"
   ]
  },
  {
   "cell_type": "code",
   "execution_count": 45,
   "id": "f78f6d7a-0bf6-46cf-9007-60c134c0aac9",
   "metadata": {
    "tags": []
   },
   "outputs": [
    {
     "name": "stdout",
     "output_type": "stream",
     "text": [
      "R_squared value:  0.015635438043964833\n",
      "RMSE:  0.4806762532818995\n"
     ]
    }
   ],
   "source": [
    "from sklearn.metrics import mean_squared_error\n",
    "\n",
    "# Make prediction\n",
    "pred = regr.predict(x_test)\n",
    "#\n",
    "# Calculate accuracy and error metrics\n",
    "#\n",
    "test_set_rsquared = regr.score(x_test, y_test)\n",
    "test_set_rmse = np.sqrt(mean_squared_error(y_test, pred))\n",
    "#\n",
    "# Print R_squared and RMSE value\n",
    "#\n",
    "print('R_squared value: ', test_set_rsquared)\n",
    "print('RMSE: ', test_set_rmse)"
   ]
  },
  {
   "cell_type": "code",
   "execution_count": 47,
   "id": "e36b5dc2-05f3-4f9d-a1b7-ca59359e8871",
   "metadata": {
    "tags": []
   },
   "outputs": [
    {
     "data": {
      "text/plain": [
       "0.015635438043964833"
      ]
     },
     "execution_count": 47,
     "metadata": {},
     "output_type": "execute_result"
    }
   ],
   "source": [
    "test_set_rsquared"
   ]
  },
  {
   "cell_type": "code",
   "execution_count": 58,
   "id": "826ba128-864c-4c91-8ede-64cbb8f76f68",
   "metadata": {
    "tags": []
   },
   "outputs": [
    {
     "name": "stderr",
     "output_type": "stream",
     "text": [
      "/home/agustin/facultad/IntroML/lib/python3.10/site-packages/sklearn/neural_network/_multilayer_perceptron.py:686: ConvergenceWarning: Stochastic Optimizer: Maximum iterations (50) reached and the optimization hasn't converged yet.\n",
      "  warnings.warn(\n"
     ]
    }
   ],
   "source": [
    "red, error_train, error_val, error_test = entrenar_red(evaluaciones = 10, red = regr,  \n",
    "                                                       x_train=x_train,y_train=y_train,\n",
    "                                                       x_val=x_valid,y_val=y_valid,\n",
    "                                                       x_test=x_test,y_test=y_test)"
   ]
  },
  {
   "cell_type": "code",
   "execution_count": 62,
   "id": "f08153ca-c61b-4a78-a52d-facf4984fdb3",
   "metadata": {
    "tags": []
   },
   "outputs": [
    {
     "data": {
      "text/plain": [
       "0.4806762532818995"
      ]
     },
     "execution_count": 62,
     "metadata": {},
     "output_type": "execute_result"
    }
   ],
   "source": [
    "error_train\n",
    "error_test\n",
    "error_val"
   ]
  },
  {
   "cell_type": "code",
   "execution_count": 38,
   "id": "4ef47e13-d0de-4c8e-bae4-773d9efbae98",
   "metadata": {
    "tags": []
   },
   "outputs": [
    {
     "data": {
      "text/plain": [
       "0     0.976418\n",
       "1     0.464438\n",
       "2     0.462873\n",
       "3     0.447031\n",
       "4     1.023614\n",
       "        ...   \n",
       "95    0.556577\n",
       "96    0.437420\n",
       "97    0.419920\n",
       "98    1.114815\n",
       "99    0.832630\n",
       "Name: 5, Length: 100, dtype: float64"
      ]
     },
     "execution_count": 38,
     "metadata": {},
     "output_type": "execute_result"
    }
   ],
   "source": [
    "df_data.iloc[:,5]"
   ]
  },
  {
   "cell_type": "code",
   "execution_count": 36,
   "id": "dabd508b-d289-4ba1-8432-2232cb432c2d",
   "metadata": {
    "tags": []
   },
   "outputs": [
    {
     "data": {
      "text/html": [
       "<div>\n",
       "<style scoped>\n",
       "    .dataframe tbody tr th:only-of-type {\n",
       "        vertical-align: middle;\n",
       "    }\n",
       "\n",
       "    .dataframe tbody tr th {\n",
       "        vertical-align: top;\n",
       "    }\n",
       "\n",
       "    .dataframe thead th {\n",
       "        text-align: right;\n",
       "    }\n",
       "</style>\n",
       "<table border=\"1\" class=\"dataframe\">\n",
       "  <thead>\n",
       "    <tr style=\"text-align: right;\">\n",
       "      <th></th>\n",
       "      <th>0</th>\n",
       "      <th>1</th>\n",
       "      <th>2</th>\n",
       "      <th>3</th>\n",
       "      <th>4</th>\n",
       "      <th>5</th>\n",
       "    </tr>\n",
       "  </thead>\n",
       "  <tbody>\n",
       "    <tr>\n",
       "      <th>0</th>\n",
       "      <td>0.907938</td>\n",
       "      <td>0.580088</td>\n",
       "      <td>0.165603</td>\n",
       "      <td>0.701732</td>\n",
       "      <td>0.354170</td>\n",
       "      <td>0.976418</td>\n",
       "    </tr>\n",
       "    <tr>\n",
       "      <th>1</th>\n",
       "      <td>0.580088</td>\n",
       "      <td>0.165603</td>\n",
       "      <td>0.701732</td>\n",
       "      <td>0.354170</td>\n",
       "      <td>0.976418</td>\n",
       "      <td>0.464438</td>\n",
       "    </tr>\n",
       "    <tr>\n",
       "      <th>2</th>\n",
       "      <td>0.165603</td>\n",
       "      <td>0.701732</td>\n",
       "      <td>0.354170</td>\n",
       "      <td>0.976418</td>\n",
       "      <td>0.464438</td>\n",
       "      <td>0.462873</td>\n",
       "    </tr>\n",
       "    <tr>\n",
       "      <th>3</th>\n",
       "      <td>0.701732</td>\n",
       "      <td>0.354170</td>\n",
       "      <td>0.976418</td>\n",
       "      <td>0.464438</td>\n",
       "      <td>0.462873</td>\n",
       "      <td>0.447031</td>\n",
       "    </tr>\n",
       "    <tr>\n",
       "      <th>4</th>\n",
       "      <td>0.354170</td>\n",
       "      <td>0.976418</td>\n",
       "      <td>0.464438</td>\n",
       "      <td>0.462873</td>\n",
       "      <td>0.447031</td>\n",
       "      <td>1.023614</td>\n",
       "    </tr>\n",
       "    <tr>\n",
       "      <th>...</th>\n",
       "      <td>...</td>\n",
       "      <td>...</td>\n",
       "      <td>...</td>\n",
       "      <td>...</td>\n",
       "      <td>...</td>\n",
       "      <td>...</td>\n",
       "    </tr>\n",
       "    <tr>\n",
       "      <th>95</th>\n",
       "      <td>0.590963</td>\n",
       "      <td>0.408041</td>\n",
       "      <td>0.921964</td>\n",
       "      <td>0.443131</td>\n",
       "      <td>0.614752</td>\n",
       "      <td>0.556577</td>\n",
       "    </tr>\n",
       "    <tr>\n",
       "      <th>96</th>\n",
       "      <td>0.408041</td>\n",
       "      <td>0.921964</td>\n",
       "      <td>0.443131</td>\n",
       "      <td>0.614752</td>\n",
       "      <td>0.556577</td>\n",
       "      <td>0.437420</td>\n",
       "    </tr>\n",
       "    <tr>\n",
       "      <th>97</th>\n",
       "      <td>0.921964</td>\n",
       "      <td>0.443131</td>\n",
       "      <td>0.614752</td>\n",
       "      <td>0.556577</td>\n",
       "      <td>0.437420</td>\n",
       "      <td>0.419920</td>\n",
       "    </tr>\n",
       "    <tr>\n",
       "      <th>98</th>\n",
       "      <td>0.443131</td>\n",
       "      <td>0.614752</td>\n",
       "      <td>0.556577</td>\n",
       "      <td>0.437420</td>\n",
       "      <td>0.419920</td>\n",
       "      <td>1.114815</td>\n",
       "    </tr>\n",
       "    <tr>\n",
       "      <th>99</th>\n",
       "      <td>0.614752</td>\n",
       "      <td>0.556577</td>\n",
       "      <td>0.437420</td>\n",
       "      <td>0.419920</td>\n",
       "      <td>1.114815</td>\n",
       "      <td>0.832630</td>\n",
       "    </tr>\n",
       "  </tbody>\n",
       "</table>\n",
       "<p>100 rows × 6 columns</p>\n",
       "</div>"
      ],
      "text/plain": [
       "           0         1         2         3         4         5\n",
       "0   0.907938  0.580088  0.165603  0.701732  0.354170  0.976418\n",
       "1   0.580088  0.165603  0.701732  0.354170  0.976418  0.464438\n",
       "2   0.165603  0.701732  0.354170  0.976418  0.464438  0.462873\n",
       "3   0.701732  0.354170  0.976418  0.464438  0.462873  0.447031\n",
       "4   0.354170  0.976418  0.464438  0.462873  0.447031  1.023614\n",
       "..       ...       ...       ...       ...       ...       ...\n",
       "95  0.590963  0.408041  0.921964  0.443131  0.614752  0.556577\n",
       "96  0.408041  0.921964  0.443131  0.614752  0.556577  0.437420\n",
       "97  0.921964  0.443131  0.614752  0.556577  0.437420  0.419920\n",
       "98  0.443131  0.614752  0.556577  0.437420  0.419920  1.114815\n",
       "99  0.614752  0.556577  0.437420  0.419920  1.114815  0.832630\n",
       "\n",
       "[100 rows x 6 columns]"
      ]
     },
     "execution_count": 36,
     "metadata": {},
     "output_type": "execute_result"
    }
   ],
   "source": [
    "df_data"
   ]
  },
  {
   "cell_type": "code",
   "execution_count": 15,
   "id": "b6ee5208-dde6-4de8-a345-7a4c10d39021",
   "metadata": {
    "tags": []
   },
   "outputs": [],
   "source": [
    "from sklearn import datasets\n",
    "from sklearn.model_selection import train_test_split\n",
    "from sklearn.datasets import fetch_california_housing"
   ]
  },
  {
   "cell_type": "code",
   "execution_count": 16,
   "id": "c192030f-6e20-4f14-8181-6f6bfa73848c",
   "metadata": {
    "tags": []
   },
   "outputs": [],
   "source": [
    "housing = fetch_california_housing()\n",
    "X = housing.data\n",
    "y = housing.target"
   ]
  },
  {
   "cell_type": "code",
   "execution_count": 27,
   "id": "20997548-1a75-451a-b3ad-e459727af412",
   "metadata": {
    "tags": []
   },
   "outputs": [
    {
     "data": {
      "text/plain": [
       "(20640, 8)"
      ]
     },
     "execution_count": 27,
     "metadata": {},
     "output_type": "execute_result"
    }
   ],
   "source": [
    "X.shape"
   ]
  },
  {
   "cell_type": "code",
   "execution_count": 28,
   "id": "95ec437a-34ce-4172-bece-83c04e5c93dd",
   "metadata": {
    "tags": []
   },
   "outputs": [
    {
     "data": {
      "text/plain": [
       "(20640,)"
      ]
     },
     "execution_count": 28,
     "metadata": {},
     "output_type": "execute_result"
    }
   ],
   "source": [
    "y.shape"
   ]
  }
 ],
 "metadata": {
  "kernelspec": {
   "display_name": "Python 3 (ipykernel)",
   "language": "python",
   "name": "python3"
  },
  "language_info": {
   "codemirror_mode": {
    "name": "ipython",
    "version": 3
   },
   "file_extension": ".py",
   "mimetype": "text/x-python",
   "name": "python",
   "nbconvert_exporter": "python",
   "pygments_lexer": "ipython3",
   "version": "3.10.6"
  }
 },
 "nbformat": 4,
 "nbformat_minor": 5
}
