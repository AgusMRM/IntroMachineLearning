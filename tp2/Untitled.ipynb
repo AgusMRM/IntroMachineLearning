{
 "cells": [
  {
   "cell_type": "code",
   "execution_count": 3,
   "id": "29b8c718-3b1a-4939-a895-eae078e00d13",
   "metadata": {
    "tags": []
   },
   "outputs": [],
   "source": [
    "import matplotlib.pylab as plt\n",
    "import numpy as np\n",
    "import sklearn as sk\n",
    "import pandas as pd\n",
    "from sklearn.neural_network import MLPRegressor\n",
    "from sklearn.neural_network import MLPClassifier\n",
    "import copy"
   ]
  },
  {
   "cell_type": "markdown",
   "id": "0054f7ac-3de9-49e9-8d89-dcd07851c759",
   "metadata": {},
   "source": [
    "\n",
    "Capacidad de modelado: Entrene redes neuronales para resolver el problema de clasificación de las espirales anidadas que creamos en el TP 0. Use un número creciente de neuronas en la capa intermedia: 2, 10, 20, 40. Valores posibles para los demás parámetros de entrenamiento: learning rate 0.1, momentum 0.9, 600 datos para ajustar los modelos (20% de ese conjunto separarlo al azar para conjunto de validación), 2000 para testear, 1000 evaluaciones del entrenamiento, cada una de 20 épocas. Para cada uno de los cuatro modelos obtenidos, graficar en el plano xy las clasificaciones sobre el conjunto de test. Comentar."
   ]
  },
  {
   "cell_type": "code",
   "execution_count": 4,
   "id": "35cd3fad-ba6b-4583-8273-3ddf3b26d1c7",
   "metadata": {
    "tags": []
   },
   "outputs": [],
   "source": [
    "from distribuciones import espirales_anidadas\n",
    "from random import sample\n",
    "import copy"
   ]
  },
  {
   "cell_type": "code",
   "execution_count": 5,
   "id": "3aacf865-2fa4-4f9a-991b-523249270d52",
   "metadata": {
    "tags": []
   },
   "outputs": [],
   "source": [
    "neuronas_capa_int = [2,10,20,40]\n",
    "lrate = 0.1\n",
    "pmom  = 0.9\n",
    "ndata = 600\n",
    "ntest = 2000\n",
    "nevaluaciones = 100\n",
    "nepocas = 20"
   ]
  },
  {
   "cell_type": "code",
   "execution_count": 6,
   "id": "4f3a0c6c-122b-4341-a628-eef09810ecc6",
   "metadata": {
    "tags": []
   },
   "outputs": [],
   "source": [
    "df = espirales_anidadas(ndata).drop(['r','tita'],axis=1)\n",
    "y0 = df['clases']\n",
    "x0 = df.drop(['clases'],axis = 1)"
   ]
  },
  {
   "cell_type": "code",
   "execution_count": 7,
   "id": "176a8649-f6b3-45ff-b887-acf811193dad",
   "metadata": {
    "tags": []
   },
   "outputs": [],
   "source": [
    "# 20% de 600 es 120\n",
    "mask_validation = sample(list(np.arange(ndata)),120)\n",
    "mask_train = np.delete(np.arange(ndata),mask_validation)\n",
    "\n",
    "y_validation = y0.values[mask_validation]\n",
    "x_validation = x0.values[mask_validation]\n",
    "\n",
    "y_train = y0.values[mask_train]\n",
    "x_train = x0.values[mask_train]"
   ]
  },
  {
   "cell_type": "code",
   "execution_count": 8,
   "id": "b3e1a259-cfd7-4a7f-9090-f6a9f7a007f9",
   "metadata": {
    "tags": []
   },
   "outputs": [],
   "source": [
    "df_test = espirales_anidadas(ntest).drop(['r','tita'],axis=1)\n",
    "y_test = df['clases']\n",
    "x_test = df.drop(['clases'],axis = 1)"
   ]
  },
  {
   "cell_type": "code",
   "execution_count": 9,
   "id": "dccfd8e3-67cd-4e53-b795-9592c7706dfd",
   "metadata": {
    "tags": []
   },
   "outputs": [
    {
     "name": "stdout",
     "output_type": "stream",
     "text": [
      "0.4083333333333333\n"
     ]
    },
    {
     "name": "stderr",
     "output_type": "stream",
     "text": [
      "/home/agustin/facultad/IntroML/lib/python3.10/site-packages/sklearn/neural_network/_multilayer_perceptron.py:686: ConvergenceWarning: Stochastic Optimizer: Maximum iterations (20) reached and the optimization hasn't converged yet.\n",
      "  warnings.warn(\n"
     ]
    }
   ],
   "source": [
    "neuronas = 10\n",
    "clasif = MLPClassifier(hidden_layer_sizes=(neuronas,), activation='logistic', solver='sgd', alpha=0.0, \n",
    "                       batch_size=1, learning_rate='constant', learning_rate_init=lrate,momentum=pmom,\n",
    "                       nesterovs_momentum=False,tol=0.0,warm_start=True,max_iter=nepocas) \n",
    "clasif.fit(x_train,y_train)\n",
    "y_pred = clasif.predict(x_validation)\n",
    "error = sk.metrics.zero_one_loss(y_pred, y_validation)\n",
    "print(error)"
   ]
  },
  {
   "cell_type": "code",
   "execution_count": 10,
   "id": "54910d8b-3a3c-489c-82eb-579da30d67fd",
   "metadata": {
    "tags": []
   },
   "outputs": [],
   "source": [
    "import warnings\n",
    "warnings.filterwarnings(\"ignore\")"
   ]
  },
  {
   "cell_type": "code",
   "execution_count": 11,
   "id": "22f605c5-14e6-462b-8e21-3be052f0ffb7",
   "metadata": {
    "tags": []
   },
   "outputs": [
    {
     "name": "stdout",
     "output_type": "stream",
     "text": [
      "CPU times: user 26.7 s, sys: 0 ns, total: 26.7 s\n",
      "Wall time: 26.7 s\n"
     ]
    }
   ],
   "source": [
    "%%time\n",
    "neuronas = 10\n",
    "errores = []\n",
    "mejor_error = 1\n",
    "\n",
    "clasif = MLPClassifier(hidden_layer_sizes=(neuronas,), activation='logistic', solver='sgd', alpha=0.0, \n",
    "                       batch_size=1, learning_rate='constant', learning_rate_init=lrate,momentum=pmom,\n",
    "                       nesterovs_momentum=False,tol=0.0,warm_start=True,max_iter=nepocas) \n",
    "\n",
    "for i in range(100):\n",
    "\n",
    "    clasif.fit(x_train,y_train)\n",
    "    y_pred = clasif.predict(x_validation)\n",
    "    error = sk.metrics.zero_one_loss(y_pred, y_validation)\n",
    "    errores.append(error)\n",
    "    if error < mejor_error:\n",
    "        mejor_error = error\n",
    "        mejor_clasif = copy.deepcopy(clasif)"
   ]
  },
  {
   "cell_type": "code",
   "execution_count": 1,
   "id": "6d53a5ed-e995-4046-89c5-a1de1d1432ad",
   "metadata": {
    "tags": []
   },
   "outputs": [],
   "source": [
    "def entrenar_red(evaluaciones,red,neuronas,x_train,y_train,x_validation,y_validation,x_test,y_test):\n",
    "    errores = []\n",
    "    min_error = 1\n",
    "    \n",
    "    for i in range(evaluaciones):\n",
    "        red.fit(x_train,y_train)\n",
    "        y_pred = red.predict(x_validation)\n",
    "        error_val = sk.metrics.zero_one_loss(y_pred, y_validation)\n",
    "        #errores.append(error_valid)\n",
    "        if error_val < min_error:\n",
    "            min_error = error_val\n",
    "            mejor_red = copy.deepcopy(red)\n",
    "            \n",
    "    pred_test = mejor_red.predict(x_test)\n",
    "    error_test = sk.metrics.zero_one_loss(pred_test,y_test)\n",
    "\n",
    "    pred_train = mejor_red.predict(x_train)\n",
    "    error_train = sk.metrics.zero_one_loss(pred_train,y_train)\n",
    "\n",
    "    \n",
    "    return red, error_train, min_error, error_test"
   ]
  },
  {
   "cell_type": "code",
   "execution_count": 2,
   "id": "c37bd475-2d01-4cb6-92af-42ad24ddf05e",
   "metadata": {
    "tags": []
   },
   "outputs": [
    {
     "ename": "SyntaxError",
     "evalue": "positional argument follows keyword argument (853049084.py, line 7)",
     "output_type": "error",
     "traceback": [
      "\u001b[0;36m  Cell \u001b[0;32mIn[2], line 7\u001b[0;36m\u001b[0m\n\u001b[0;31m    x_train,y_train,x_validation,y_validation,x_test,y_test)\u001b[0m\n\u001b[0m                                                           ^\u001b[0m\n\u001b[0;31mSyntaxError\u001b[0m\u001b[0;31m:\u001b[0m positional argument follows keyword argument\n"
     ]
    }
   ],
   "source": [
    "clasif = MLPClassifier(hidden_layer_sizes=(neuronas,), activation='logistic', solver='sgd', alpha=0.0, \n",
    "                       batch_size=1, learning_rate='constant', learning_rate_init=lrate,momentum=pmom,\n",
    "                       nesterovs_momentum=False,tol=0.0,warm_start=True,max_iter=nepocas) \n",
    "\n",
    "\n",
    "red, error_train, error_val, error_test = entrenar_red(evaluaciones = 10, red = clasif, epocas = 10, \n",
    "                                                       x_train,y_train,x_validation,y_validation,x_test,y_test)"
   ]
  },
  {
   "cell_type": "code",
   "execution_count": 31,
   "id": "939ff6e9-0561-4223-b1da-e0e5abfab280",
   "metadata": {
    "tags": []
   },
   "outputs": [
    {
     "name": "stdout",
     "output_type": "stream",
     "text": [
      "0.39375000000000004 0.35 0.385\n"
     ]
    }
   ],
   "source": [
    "print(error_train, error_val, error_test)"
   ]
  },
  {
   "cell_type": "code",
   "execution_count": 20,
   "id": "283c874b-ad64-408b-a999-26ae759fd2f6",
   "metadata": {
    "tags": []
   },
   "outputs": [
    {
     "name": "stdout",
     "output_type": "stream",
     "text": [
      "0.31666666666666665\n"
     ]
    },
    {
     "data": {
      "image/png": "[encoded data removed]",
      "text/plain": [
       "<Figure size 640x480 with 1 Axes>"
      ]
     },
     "metadata": {},
     "output_type": "display_data"
    }
   ],
   "source": [
    "plt.hist(errores)\n",
    "print(np.min(errores))"
   ]
  },
  {
   "cell_type": "code",
   "execution_count": 21,
   "id": "f51225b7-188d-4fc4-8d56-1aa0d3e7f8fc",
   "metadata": {
    "tags": []
   },
   "outputs": [
    {
     "name": "stdout",
     "output_type": "stream",
     "text": [
      "0.31666666666666665\n"
     ]
    }
   ],
   "source": [
    "y_pred = mejor_clasif.predict(x_validation)\n",
    "error = sk.metrics.zero_one_loss(y_pred, y_validation)\n",
    "print(error)"
   ]
  }
 ],
 "metadata": {
  "kernelspec": {
   "display_name": "Python 3 (ipykernel)",
   "language": "python",
   "name": "python3"
  },
  "language_info": {
   "codemirror_mode": {
    "name": "ipython",
    "version": 3
   },
   "file_extension": ".py",
   "mimetype": "text/x-python",
   "name": "python",
   "nbconvert_exporter": "python",
   "pygments_lexer": "ipython3",
   "version": "3.10.6"
  }
 },
 "nbformat": 4,
 "nbformat_minor": 5
}
